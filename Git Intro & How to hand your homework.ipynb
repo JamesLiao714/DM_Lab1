{
 "cells": [
  {
   "cell_type": "markdown",
   "metadata": {},
   "source": [
    "# GIT INTRO & How to hand your homework"
   ]
  },
  {
   "cell_type": "markdown",
   "metadata": {},
   "source": [
    "Git is a version control tool that helps you keep track of your work, collaborate with other people, and restore old versions of a document. Here we do a brief overview.\n",
    "\n",
    "To hand in your homework, you will need to:"
   ]
  },
  {
   "cell_type": "markdown",
   "metadata": {},
   "source": [
    "### 1. Fork the Lab 1 Repository"
   ]
  },
  {
   "cell_type": "markdown",
   "metadata": {},
   "source": [
    "Go to the [DM Lab 1 Repo](https://github.com/fhcalderon87/DM2021-Lab1-master) in Git,\n",
    "and fork a copy by clicking the \"Fork\" button as shown below:\n",
    "    "
   ]
  },
  {
   "cell_type": "markdown",
   "metadata": {},
   "source": [
    "![img1](img/gitpic1.png)"
   ]
  },
  {
   "cell_type": "markdown",
   "metadata": {},
   "source": [
    "After forking, you should briefly see an image similar to the one below:"
   ]
  },
  {
   "cell_type": "markdown",
   "metadata": {},
   "source": [
    "![img3](img/gitpic3.png)"
   ]
  },
  {
   "cell_type": "markdown",
   "metadata": {},
   "source": [
    "And it will redirect you to a \"copy\" of the code in your own page. Once in your page (check that your name shows up at the top left corner), Click the green button \"Code\", and the clipboard button besides the lnk that pops up."
   ]
  },
  {
   "cell_type": "markdown",
   "metadata": {},
   "source": [
    "![img4](img/gitpic4.png)"
   ]
  },
  {
   "cell_type": "markdown",
   "metadata": {},
   "source": [
    "### 2. Create a folder in your computer and set it up"
   ]
  },
  {
   "cell_type": "markdown",
   "metadata": {},
   "source": [
    "Open a \"Command Prompt\" window in Windows or a \"Terminal\" window in MacOS/Linux. Type the following commands followed by the Enter key:\n",
    "\n",
    "    cd yourpath\n",
    "    mkdir DMLab1\n",
    "    cd DMLab1\n",
    "    git init\n",
    "    git clone linkyoucopied\n",
    "    \n",
    "Replacing \"yourpath\" by the path where you're going to store your documents, and \"linkyoucopied\" with the link you copied at the end of step 1. Below is an example, where I store my Lab in the \"Downloads\" folder."
   ]
  },
  {
   "cell_type": "markdown",
   "metadata": {},
   "source": [
    "![img5](img/gitpic5.png)"
   ]
  },
  {
   "cell_type": "markdown",
   "metadata": {},
   "source": [
    "Your homework will be located in the path \"yourpath\" (in this example, the \"Downloads\" folder) in a folder named \"DMLab1\". You can open a Jupyter Notebook server and search for the folder DMLab1. You can then double click on the \"DM2020-Lab1-Master.ipynb\" notebook and open. \n",
    "\n",
    "You can then start to edit!"
   ]
  },
  {
   "cell_type": "markdown",
   "metadata": {},
   "source": [
    "### 3. Save changes and push"
   ]
  },
  {
   "cell_type": "markdown",
   "metadata": {},
   "source": [
    "Remember to save your notebooks. You will also have to \"Push\" the changes you've made in your computer to the internet. In order to do this, open a \"Command Prompt\" window in Windows or a \"Terminal\" window in MacOS/Linux. Type the following commands followed by the Enter key:\n",
    "\n",
    "    cd yourpath\n",
    "    cd DMLab1\n",
    "    git add *\n",
    "    git commit -m \"yourmessage\"\n",
    "    git push \n",
    "    \n",
    "You can replace \"yourmessage\" with something like \"Finished Ex1 and Ex2. Added graph for Ex. 6\" . You can save and commit as often as you like. Below is an example:"
   ]
  },
  {
   "cell_type": "markdown",
   "metadata": {},
   "source": [
    "![img6](img/gitpic6.png)"
   ]
  },
  {
   "cell_type": "markdown",
   "metadata": {},
   "source": [
    "### 4. Hand in your homework"
   ]
  },
  {
   "cell_type": "markdown",
   "metadata": {},
   "source": [
    "Go to the [DM Lab 1 Homework 1 Repo](https://github.com/fhcalderon87/DM2021-Lab1-Homework) in Git and follow the same process above.  Make sure to commit and save your changes to your repository __BEFORE the deadline (Nov. 4th 11:59 pm, Thursday)__. \n",
    "\n",
    "Make sure your notebook includes: \n",
    "1. Take home exercises from [Lab 1](https://github.com/fhcalderon87/DM2021-Lab1-master)\n",
    "2. The homework itself\n",
    "\n",
    "When you're done (or at any moment), find your repository link. Open the **\\[DM2021\\] Homework 1** assignment page on our [eLearn platform](https://elearn.nthu.edu.tw/). Make a submission and paste the link to your git repository (or the link to your kaggle kernel). \n",
    "\n",
    "You can find your repository link by logging into [Github](https://github.com/), clicking on your profile icon on the upper right corner, selecting \"Your repositories\", and clicking on the name of your repository . Then copy the link in your browser. \n",
    "\n",
    "Again, __we will not consider pushes made after the deadline__. \n",
    "\n",
    "That's it! We wish you Good luck!"
   ]
  },
  {
   "cell_type": "code",
   "execution_count": null,
   "metadata": {},
   "outputs": [],
   "source": []
  }
 ],
 "metadata": {
  "kernelspec": {
   "display_name": "Python 3",
   "language": "python",
   "name": "python3"
  },
  "language_info": {
   "codemirror_mode": {
    "name": "ipython",
    "version": 3
   },
   "file_extension": ".py",
   "mimetype": "text/x-python",
   "name": "python",
   "nbconvert_exporter": "python",
   "pygments_lexer": "ipython3",
   "version": "3.6.12"
  }
 },
 "nbformat": 4,
 "nbformat_minor": 2
}
